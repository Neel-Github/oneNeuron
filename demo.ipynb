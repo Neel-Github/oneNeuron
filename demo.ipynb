{
 "cells": [
  {
   "cell_type": "code",
   "execution_count": 1,
   "source": [
    "import numpy as np "
   ],
   "outputs": [],
   "metadata": {}
  },
  {
   "cell_type": "code",
   "execution_count": null,
   "source": [
    "from oneNeuron.perceptron import Perceptron\r\n",
    "from utils.all_utils import prepare_data, save_plot, save_model\r\n",
    "import pandas as pd\r\n",
    "import logging\r\n",
    "import os\r\n",
    "\r\n",
    "logging_str = \"[%(asctime)s: %(levelname)s: %(module)s] %(message)s\"\r\n",
    "log_dir = \"logs\"\r\n",
    "os.makedirs(log_dir, exist_ok=True)\r\n",
    "logging.basicConfig(filename= os.path.join(log_dir,\"running_logs.log\"),level=logging.INFO, format=logging_str, filemode=\"a\")\r\n",
    "\r\n",
    "\r\n",
    "def main(data, modelName, plotName, eta, epochs):\r\n",
    "    df = pd.DataFrame(data)\r\n",
    "    logging.info(f\"This is actual dataframe{df}\")\r\n",
    "    X, y = prepare_data(df)\r\n",
    "    model = Perceptron(eta=eta, epochs=epochs)\r\n",
    "    model.fit(X, y)\r\n",
    "    _ = model.total_loss()\r\n",
    "    save_model(model, filename=modelName)\r\n",
    "    save_plot(df, plotName, model)\r\n",
    "\r\n",
    "\r\n",
    "OR = {\r\n",
    "\"x1\": [0,0,1,1],\r\n",
    "\"x2\": [0,1,0,1],\r\n",
    "\"y\": [0,1,1,1],\r\n",
    "}\r\n",
    "ETA = 0.3 # 0 and 1\r\n",
    "EPOCHS = 100\r\n",
    "try:\r\n",
    "    logging.info(\">>>>> starting training >>>>>\")\r\n",
    "    main(data=OR, modelName=\"or.model\", plotName=\"or.png\", eta=ETA, epochs=EPOCHS)\r\n",
    "    logging.info(\"<<<<< training done successfully<<<<<\\n\")\r\n",
    "except Exception as e:\r\n",
    "    logging.exception(e)\r\n",
    "    raise e"
   ],
   "outputs": [],
   "metadata": {}
  }
 ],
 "metadata": {
  "kernelspec": {
   "name": "python3",
   "display_name": "Python 3.7.11 64-bit ('oneNeuron': conda)"
  },
  "language_info": {
   "codemirror_mode": {
    "name": "ipython",
    "version": 3
   },
   "file_extension": ".py",
   "mimetype": "text/x-python",
   "name": "python",
   "nbconvert_exporter": "python",
   "pygments_lexer": "ipython3",
   "version": "3.7.11"
  },
  "interpreter": {
   "hash": "52a84dfd5c1728ec4b40713dbc231605bf46d1751533025fd6151882a4121833"
  }
 },
 "nbformat": 4,
 "nbformat_minor": 5
}